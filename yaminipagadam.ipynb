{
  "nbformat": 4,
  "nbformat_minor": 0,
  "metadata": {
    "colab": {
      "name": "prasad papna",
      "provenance": []
    },
    "kernelspec": {
      "name": "python3",
      "display_name": "Python 3"
    },
    "language_info": {
      "name": "python"
    }
  },
  "cells": [
    {
      "cell_type": "code",
      "source": [
        "#question1\n",
        "def factorial(n):\n",
        "  fact=1\n",
        "  for i in range(1,n+1):\n",
        "    fact=fact*i\n",
        "  return fact\n",
        "n=int(input(\"Enter positive number:\"))\n",
        "f=factorial(n)\n",
        "print(f)  "
      ],
      "metadata": {
        "colab": {
          "base_uri": "https://localhost:8080/"
        },
        "id": "x6jc4idH6DVt",
        "outputId": "bd8d77e4-e1fb-48cc-b2d8-d11334f3fabe"
      },
      "execution_count": 1,
      "outputs": [
        {
          "output_type": "stream",
          "name": "stdout",
          "text": [
            "Enter positive number:6\n",
            "720\n"
          ]
        }
      ]
    },
    {
      "cell_type": "code",
      "source": [
        "#question2\n",
        "relation={\"Darth\":\"father\",\"Leia\":\"sister\",\"Han\":\"brother in law\",\"R2D2\":\"droid\"}\n",
        "for i in relation.values():\n",
        "  print(\"Luke,Iam your\",i)"
      ],
      "metadata": {
        "colab": {
          "base_uri": "https://localhost:8080/"
        },
        "id": "QQGwTTvQ63Mg",
        "outputId": "5c9733be-a018-4c75-cde6-9fe50e96ad3f"
      },
      "execution_count": 2,
      "outputs": [
        {
          "output_type": "stream",
          "name": "stdout",
          "text": [
            "Luke,Iam your father\n",
            "Luke,Iam your sister\n",
            "Luke,Iam your brother in law\n",
            "Luke,Iam your droid\n"
          ]
        }
      ]
    },
    {
      "cell_type": "code",
      "source": [
        "#question3\n",
        "num = int(input(\"Enter a number:\"))\n",
        "count = 0\n",
        "\n",
        "while num != 0:\n",
        "  num //= 10\n",
        "  count += 1\n",
        "\n",
        "print(\"Number of digits:\" + str(count))"
      ],
      "metadata": {
        "colab": {
          "base_uri": "https://localhost:8080/"
        },
        "id": "GYj3k3zN7fmF",
        "outputId": "b1b39010-2b16-4bd0-eedb-809501541434"
      },
      "execution_count": 6,
      "outputs": [
        {
          "output_type": "stream",
          "name": "stdout",
          "text": [
            "Enter a number:67\n",
            "Number of digits:2\n"
          ]
        }
      ]
    },
    {
      "cell_type": "code",
      "source": [
        "#question4\n",
        "def total_factorial(num):\n",
        "  fact =1\n",
        "  while num > 0:\n",
        "    for item in range(1,num+1):\n",
        "      fact = fact * item\n",
        "    num = num-1\n",
        "  return fact\n",
        "\n",
        "result = total_factorial(5)\n",
        "print(result)"
      ],
      "metadata": {
        "id": "UzeI-GXu_Px5"
      },
      "execution_count": null,
      "outputs": []
    },
    {
      "cell_type": "code",
      "source": [
        "#question5\n",
        "list = [1,2,3]\n",
        "print(\"The original list is:\" + str(list))\n",
        "m = sum(map(lambda i:i*i,list))\n",
        "print(\"The sum of squares of list is :\" + str(m))\n"
      ],
      "metadata": {
        "colab": {
          "base_uri": "https://localhost:8080/"
        },
        "id": "Jhnuj-0s_aCK",
        "outputId": "dd1b9231-35f3-448e-9390-d5cda8329ae1"
      },
      "execution_count": 7,
      "outputs": [
        {
          "output_type": "stream",
          "name": "stdout",
          "text": [
            "The original list is:[1, 2, 3]\n",
            "The sum of squares of list is :14\n"
          ]
        }
      ]
    },
    {
      "cell_type": "code",
      "source": [
        "#question6\n",
        "number_1 = int(input('Enter your first number: '))\n",
        "number_2 = int(input('Enter your second number: '))\n",
        "operation = input('''\n",
        "Please enter an operation to do:\n",
        "+ for addition\n",
        "- for subtraction\n",
        "* for multiplication\n",
        "/ for division\n",
        "''')\n",
        "\n",
        "\n",
        "if operation == '+':\n",
        "    print('{} + {} = '.format(number_1, number_2))\n",
        "    print(number_1 + number_2)\n",
        "\n",
        "elif operation == '-':\n",
        "    print('{} - {} = '.format(number_1, number_2))\n",
        "    print(number_1 - number_2)\n",
        "\n",
        "elif operation == '*':\n",
        "    print('{} * {} = '.format(number_1, number_2))\n",
        "    print(number_1 * number_2)\n",
        "\n",
        "elif operation == '/':\n",
        "    print('{} / {} = '.format(number_1, number_2))\n",
        "    print(number_1 / number_2)\n",
        "\n",
        "else:\n",
        "    print('You have not typed a valid operator, please run the program again.')"
      ],
      "metadata": {
        "colab": {
          "base_uri": "https://localhost:8080/"
        },
        "id": "Op_ilfAo_noW",
        "outputId": "3215f0b0-8e68-4ecc-edef-03bad6cc3bac"
      },
      "execution_count": 8,
      "outputs": [
        {
          "output_type": "stream",
          "name": "stdout",
          "text": [
            "Enter your first number: 5\n",
            "Enter your second number: 7\n",
            "\n",
            "Please enter an operation to do:\n",
            "+ for addition\n",
            "- for subtraction\n",
            "* for multiplication\n",
            "/ for division\n",
            "+\n",
            "5 + 7 = \n",
            "12\n"
          ]
        }
      ]
    },
    {
      "cell_type": "code",
      "source": [
        "#question7\n",
        "n = int(input(\"Please enter number:\"))\n",
        "for i in range(0,n):\n",
        "    if(i%2!=0):\n",
        "        print(\"I WILL\")\n",
        "    else:\n",
        "        print(\"I CAN\")"
      ],
      "metadata": {
        "colab": {
          "base_uri": "https://localhost:8080/"
        },
        "id": "8xxtBLjn_8nc",
        "outputId": "ecf830f9-f2d4-43d7-f04e-30be1ebe9282"
      },
      "execution_count": 9,
      "outputs": [
        {
          "output_type": "stream",
          "name": "stdout",
          "text": [
            "Please enter number:7\n",
            "I CAN\n",
            "I WILL\n",
            "I CAN\n",
            "I WILL\n",
            "I CAN\n",
            "I WILL\n",
            "I CAN\n"
          ]
        }
      ]
    },
    {
      "cell_type": "code",
      "source": [
        "#question9\n",
        "def areConsecutive(arr, n):\n",
        "     \n",
        "    for i in range (1,n):\n",
        "        if(arr[i]!=arr[i-1]+1):\n",
        "            return False;\n",
        "             \n",
        "    return True;   \n",
        "a = [4,2,3]\n",
        "b = [1,5,6]    \n",
        "arr = a+b\n",
        "n = len(arr)\n",
        "if(areConsecutive(arr, n) == True):\n",
        "    print(\"true i.e.,Array elements are consecutive \")\n",
        "else:\n",
        "    print(\"false i.e.,Array elements are not consecutive \")"
      ],
      "metadata": {
        "colab": {
          "base_uri": "https://localhost:8080/"
        },
        "id": "59Kk5PGkAI3H",
        "outputId": "180f6f92-1851-42ab-b854-7340c6eec59d"
      },
      "execution_count": 10,
      "outputs": [
        {
          "output_type": "stream",
          "name": "stdout",
          "text": [
            "false i.e.,Array elements are not consecutive \n"
          ]
        }
      ]
    },
    {
      "cell_type": "code",
      "source": [
        "#question10\n",
        "d={\"cost_price\":32.67,\"sell_price\":45.00}\n",
        "inventory=1200\n",
        "a=d.get(\"cost_price\")\n",
        "b=d.get(\"sell_price\")\n",
        "profit=(b-a)*inventory\n",
        "c=round(profit)\n",
        "print(c)"
      ],
      "metadata": {
        "colab": {
          "base_uri": "https://localhost:8080/"
        },
        "id": "DBv5XyExASUh",
        "outputId": "35049f9c-c30c-43bf-a496-5cc4d65c7a77"
      },
      "execution_count": 11,
      "outputs": [
        {
          "output_type": "stream",
          "name": "stdout",
          "text": [
            "14796\n"
          ]
        }
      ]
    },
    {
      "cell_type": "code",
      "source": [
        ""
      ],
      "metadata": {
        "id": "10AI8sKR_0TB"
      },
      "execution_count": null,
      "outputs": []
    }
  ]
}